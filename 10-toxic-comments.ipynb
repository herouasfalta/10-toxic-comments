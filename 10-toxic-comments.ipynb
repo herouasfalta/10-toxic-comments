{
 "cells": [
  {
   "cell_type": "markdown",
   "metadata": {
    "toc": true
   },
   "source": [
    "<h1>Содержание<span class=\"tocSkip\"></span></h1>\n",
    "<div class=\"toc\"><ul class=\"toc-item\"><li><span><a href=\"#Введение\" data-toc-modified-id=\"Введение-1\"><span class=\"toc-item-num\">1&nbsp;&nbsp;</span>Введение</a></span></li><li><span><a href=\"#Подготовка\" data-toc-modified-id=\"Подготовка-2\"><span class=\"toc-item-num\">2&nbsp;&nbsp;</span>Подготовка</a></span><ul class=\"toc-item\"><li><span><a href=\"#Создаю-корпус-постов\" data-toc-modified-id=\"Создаю-корпус-постов-2.1\"><span class=\"toc-item-num\">2.1&nbsp;&nbsp;</span>Создаю корпус постов</a></span></li><li><span><a href=\"#Пишу-функции-для-лемматизации-текста-и-очистки-от-лишних-символов\" data-toc-modified-id=\"Пишу-функции-для-лемматизации-текста-и-очистки-от-лишних-символов-2.2\"><span class=\"toc-item-num\">2.2&nbsp;&nbsp;</span>Пишу функции для лемматизации текста и очистки от лишних символов</a></span></li><li><span><a href=\"#Пишу-функцию-для-очистки-текста-от-лишних-символов\" data-toc-modified-id=\"Пишу-функцию-для-очистки-текста-от-лишних-символов-2.3\"><span class=\"toc-item-num\">2.3&nbsp;&nbsp;</span>Пишу функцию для очистки текста от лишних символов</a></span></li><li><span><a href=\"#Применяю-функции-лемматизации-и-очистки-текста\" data-toc-modified-id=\"Применяю-функции-лемматизации-и-очистки-текста-2.4\"><span class=\"toc-item-num\">2.4&nbsp;&nbsp;</span>Применяю функции лемматизации и очистки текста</a></span></li><li><span><a href=\"#Делю-данные-на-тренировочные,-валидационные-и-тестовые\" data-toc-modified-id=\"Делю-данные-на-тренировочные,-валидационные-и-тестовые-2.5\"><span class=\"toc-item-num\">2.5&nbsp;&nbsp;</span>Делю данные на тренировочные, валидационные и тестовые</a></span></li><li><span><a href=\"#Перевожу-слова-в-векторный-формат.-Не-получилось-убрать-стоп-слова-здесь,-не-могу-понять-почему-код-не-работает(\" data-toc-modified-id=\"Перевожу-слова-в-векторный-формат.-Не-получилось-убрать-стоп-слова-здесь,-не-могу-понять-почему-код-не-работает(-2.6\"><span class=\"toc-item-num\">2.6&nbsp;&nbsp;</span>Перевожу слова в векторный формат. Не получилось убрать стоп-слова здесь, не могу понять почему код не работает(</a></span></li></ul></li><li><span><a href=\"#Обучение\" data-toc-modified-id=\"Обучение-3\"><span class=\"toc-item-num\">3&nbsp;&nbsp;</span>Обучение</a></span><ul class=\"toc-item\"><li><span><a href=\"#Исследую-модель-случайного-леса\" data-toc-modified-id=\"Исследую-модель-случайного-леса-3.1\"><span class=\"toc-item-num\">3.1&nbsp;&nbsp;</span>Исследую модель случайного леса</a></span><ul class=\"toc-item\"><li><span><a href=\"#Строю-ROC-кривую-для-случайного-леса-и-рассчитываю-AUC-ROC-(насколько-сильно-модель-отличается-от-случайной)\" data-toc-modified-id=\"Строю-ROC-кривую-для-случайного-леса-и-рассчитываю-AUC-ROC-(насколько-сильно-модель-отличается-от-случайной)-3.1.1\"><span class=\"toc-item-num\">3.1.1&nbsp;&nbsp;</span>Строю ROC кривую для случайного леса и рассчитываю AUC-ROC (насколько сильно модель отличается от случайной)</a></span></li></ul></li><li><span><a href=\"#Исследую-модель-логистической-регрессии\" data-toc-modified-id=\"Исследую-модель-логистической-регрессии-3.2\"><span class=\"toc-item-num\">3.2&nbsp;&nbsp;</span>Исследую модель логистической регрессии</a></span></li><li><span><a href=\"#Подбираю-параметры-для-линейной-регрессии-через-GridSearch\" data-toc-modified-id=\"Подбираю-параметры-для-линейной-регрессии-через-GridSearch-3.3\"><span class=\"toc-item-num\">3.3&nbsp;&nbsp;</span>Подбираю параметры для линейной регрессии через GridSearch</a></span><ul class=\"toc-item\"><li><span><a href=\"#Строю-ROC-кривую-для-логистической-регрессии-и-рассчитываю-AUC-ROC-(насколько-сильно-модель-отличается-от-случайной)\" data-toc-modified-id=\"Строю-ROC-кривую-для-логистической-регрессии-и-рассчитываю-AUC-ROC-(насколько-сильно-модель-отличается-от-случайной)-3.3.1\"><span class=\"toc-item-num\">3.3.1&nbsp;&nbsp;</span>Строю ROC кривую для логистической регрессии и рассчитываю AUC-ROC (насколько сильно модель отличается от случайной)</a></span></li></ul></li></ul></li><li><span><a href=\"#Тестирование-модели\" data-toc-modified-id=\"Тестирование-модели-4\"><span class=\"toc-item-num\">4&nbsp;&nbsp;</span>Тестирование модели</a></span></li><li><span><a href=\"#Выводы\" data-toc-modified-id=\"Выводы-5\"><span class=\"toc-item-num\">5&nbsp;&nbsp;</span>Выводы</a></span></li><li><span><a href=\"#Чек-лист-проверки\" data-toc-modified-id=\"Чек-лист-проверки-6\"><span class=\"toc-item-num\">6&nbsp;&nbsp;</span>Чек-лист проверки</a></span></li></ul></div>"
   ]
  },
  {
   "cell_type": "markdown",
   "metadata": {},
   "source": [
    "# Проект для «Викишоп»"
   ]
  },
  {
   "cell_type": "markdown",
   "metadata": {},
   "source": [
    "Интернет-магазин «Викишоп» запускает новый сервис. Теперь пользователи могут редактировать и дополнять описания товаров, как в вики-сообществах. То есть клиенты предлагают свои правки и комментируют изменения других. Магазину нужен инструмент, который будет искать токсичные комментарии и отправлять их на модерацию. \n",
    "\n",
    "Обучите модель классифицировать комментарии на позитивные и негативные. В вашем распоряжении набор данных с разметкой о токсичности правок.\n",
    "\n",
    "Постройте модель со значением метрики качества *F1* не меньше 0.75. \n",
    "\n",
    "**Инструкция по выполнению проекта**\n",
    "\n",
    "1. Загрузите и подготовьте данные.\n",
    "2. Обучите разные модели. \n",
    "3. Сделайте выводы.\n",
    "\n",
    "Для выполнения проекта применять *BERT* необязательно, но вы можете попробовать.\n",
    "\n",
    "**Описание данных**\n",
    "\n",
    "Данные находятся в файле `toxic_comments.csv`. Столбец *text* в нём содержит текст комментария, а *toxic* — целевой признак."
   ]
  },
  {
   "cell_type": "markdown",
   "metadata": {},
   "source": [
    "## Введение"
   ]
  },
  {
   "cell_type": "markdown",
   "metadata": {},
   "source": [
    "Интернет-магазин «Викишоп» запустил новый сервис, в котором пользователи могут редактировать и дополнять описания товаров, как в вики-сообществах. То есть клиенты предлагают свои правки и комментируют изменения других. Поэтому магазину понадобился инструмент, который будет искать токсичные комментарии и отправлять их на модерацию.\n",
    "\n",
    "Задачай данного проекта будет исследование разных моделей для решения задачи бинарной классификации."
   ]
  },
  {
   "cell_type": "markdown",
   "metadata": {},
   "source": [
    "## Подготовка"
   ]
  },
  {
   "cell_type": "code",
   "execution_count": 1,
   "metadata": {},
   "outputs": [
    {
     "name": "stderr",
     "output_type": "stream",
     "text": [
      "[nltk_data] Downloading package stopwords to /home/jovyan/nltk_data...\n",
      "[nltk_data]   Package stopwords is already up-to-date!\n",
      "[nltk_data] Downloading package wordnet to /home/jovyan/nltk_data...\n",
      "[nltk_data]   Package wordnet is already up-to-date!\n"
     ]
    },
    {
     "name": "stdout",
     "output_type": "stream",
     "text": [
      "Requirement already satisfied: spacy in /opt/conda/lib/python3.9/site-packages (3.2.0)\n",
      "Requirement already satisfied: setuptools in /opt/conda/lib/python3.9/site-packages (from spacy) (49.6.0.post20210108)\n",
      "Requirement already satisfied: pathy>=0.3.5 in /opt/conda/lib/python3.9/site-packages (from spacy) (0.6.2)\n",
      "Requirement already satisfied: spacy-loggers<2.0.0,>=1.0.0 in /opt/conda/lib/python3.9/site-packages (from spacy) (1.0.3)\n",
      "Requirement already satisfied: typer<0.5.0,>=0.3.0 in /opt/conda/lib/python3.9/site-packages (from spacy) (0.4.2)\n",
      "Requirement already satisfied: tqdm<5.0.0,>=4.38.0 in /opt/conda/lib/python3.9/site-packages (from spacy) (4.61.2)\n",
      "Requirement already satisfied: packaging>=20.0 in /opt/conda/lib/python3.9/site-packages (from spacy) (21.3)\n",
      "Requirement already satisfied: thinc<8.1.0,>=8.0.12 in /opt/conda/lib/python3.9/site-packages (from spacy) (8.0.17)\n",
      "Requirement already satisfied: blis<0.8.0,>=0.4.0 in /opt/conda/lib/python3.9/site-packages (from spacy) (0.7.8)\n",
      "Requirement already satisfied: cymem<2.1.0,>=2.0.2 in /opt/conda/lib/python3.9/site-packages (from spacy) (2.0.6)\n",
      "Requirement already satisfied: srsly<3.0.0,>=2.4.1 in /opt/conda/lib/python3.9/site-packages (from spacy) (2.4.4)\n",
      "Requirement already satisfied: preshed<3.1.0,>=3.0.2 in /opt/conda/lib/python3.9/site-packages (from spacy) (3.0.7)\n",
      "Requirement already satisfied: requests<3.0.0,>=2.13.0 in /opt/conda/lib/python3.9/site-packages (from spacy) (2.25.1)\n",
      "Requirement already satisfied: jinja2 in /opt/conda/lib/python3.9/site-packages (from spacy) (3.0.1)\n",
      "Requirement already satisfied: catalogue<2.1.0,>=2.0.6 in /opt/conda/lib/python3.9/site-packages (from spacy) (2.0.8)\n",
      "Requirement already satisfied: pydantic!=1.8,!=1.8.1,<1.9.0,>=1.7.4 in /opt/conda/lib/python3.9/site-packages (from spacy) (1.8.2)\n",
      "Requirement already satisfied: wasabi<1.1.0,>=0.8.1 in /opt/conda/lib/python3.9/site-packages (from spacy) (0.10.1)\n",
      "Requirement already satisfied: spacy-legacy<3.1.0,>=3.0.8 in /opt/conda/lib/python3.9/site-packages (from spacy) (3.0.10)\n",
      "Requirement already satisfied: langcodes<4.0.0,>=3.2.0 in /opt/conda/lib/python3.9/site-packages (from spacy) (3.3.0)\n",
      "Requirement already satisfied: murmurhash<1.1.0,>=0.28.0 in /opt/conda/lib/python3.9/site-packages (from spacy) (1.0.8)\n",
      "Requirement already satisfied: numpy>=1.15.0 in /opt/conda/lib/python3.9/site-packages (from spacy) (1.21.1)\n",
      "Requirement already satisfied: pyparsing!=3.0.5,>=2.0.2 in /opt/conda/lib/python3.9/site-packages (from packaging>=20.0->spacy) (2.4.7)\n",
      "Requirement already satisfied: smart-open<6.0.0,>=5.2.1 in /opt/conda/lib/python3.9/site-packages (from pathy>=0.3.5->spacy) (5.2.1)\n",
      "Requirement already satisfied: typing-extensions>=3.7.4.3 in /opt/conda/lib/python3.9/site-packages (from pydantic!=1.8,!=1.8.1,<1.9.0,>=1.7.4->spacy) (4.3.0)\n",
      "Requirement already satisfied: idna<3,>=2.5 in /opt/conda/lib/python3.9/site-packages (from requests<3.0.0,>=2.13.0->spacy) (2.10)\n",
      "Requirement already satisfied: chardet<5,>=3.0.2 in /opt/conda/lib/python3.9/site-packages (from requests<3.0.0,>=2.13.0->spacy) (4.0.0)\n",
      "Requirement already satisfied: certifi>=2017.4.17 in /opt/conda/lib/python3.9/site-packages (from requests<3.0.0,>=2.13.0->spacy) (2022.6.15)\n",
      "Requirement already satisfied: urllib3<1.27,>=1.21.1 in /opt/conda/lib/python3.9/site-packages (from requests<3.0.0,>=2.13.0->spacy) (1.26.6)\n",
      "Requirement already satisfied: click<9.0.0,>=7.1.1 in /opt/conda/lib/python3.9/site-packages (from typer<0.5.0,>=0.3.0->spacy) (8.1.3)\n",
      "Requirement already satisfied: MarkupSafe>=2.0 in /opt/conda/lib/python3.9/site-packages (from jinja2->spacy) (2.1.1)\n",
      "\u001b[38;5;3m⚠ As of spaCy v3.0, shortcuts like 'en' are deprecated. Please use the\n",
      "full pipeline package name 'en_core_web_sm' instead.\u001b[0m\n",
      "Collecting en-core-web-sm==3.2.0\n",
      "  Downloading https://github.com/explosion/spacy-models/releases/download/en_core_web_sm-3.2.0/en_core_web_sm-3.2.0-py3-none-any.whl (13.9 MB)\n",
      "\u001b[K     |████████████████████████████████| 13.9 MB 1.3 MB/s eta 0:00:01\n",
      "\u001b[?25hRequirement already satisfied: spacy<3.3.0,>=3.2.0 in /opt/conda/lib/python3.9/site-packages (from en-core-web-sm==3.2.0) (3.2.0)\n",
      "Requirement already satisfied: jinja2 in /opt/conda/lib/python3.9/site-packages (from spacy<3.3.0,>=3.2.0->en-core-web-sm==3.2.0) (3.0.1)\n",
      "Requirement already satisfied: requests<3.0.0,>=2.13.0 in /opt/conda/lib/python3.9/site-packages (from spacy<3.3.0,>=3.2.0->en-core-web-sm==3.2.0) (2.25.1)\n",
      "Requirement already satisfied: pathy>=0.3.5 in /opt/conda/lib/python3.9/site-packages (from spacy<3.3.0,>=3.2.0->en-core-web-sm==3.2.0) (0.6.2)\n",
      "Requirement already satisfied: setuptools in /opt/conda/lib/python3.9/site-packages (from spacy<3.3.0,>=3.2.0->en-core-web-sm==3.2.0) (49.6.0.post20210108)\n",
      "Requirement already satisfied: cymem<2.1.0,>=2.0.2 in /opt/conda/lib/python3.9/site-packages (from spacy<3.3.0,>=3.2.0->en-core-web-sm==3.2.0) (2.0.6)\n",
      "Requirement already satisfied: murmurhash<1.1.0,>=0.28.0 in /opt/conda/lib/python3.9/site-packages (from spacy<3.3.0,>=3.2.0->en-core-web-sm==3.2.0) (1.0.8)\n",
      "Requirement already satisfied: tqdm<5.0.0,>=4.38.0 in /opt/conda/lib/python3.9/site-packages (from spacy<3.3.0,>=3.2.0->en-core-web-sm==3.2.0) (4.61.2)\n",
      "Requirement already satisfied: catalogue<2.1.0,>=2.0.6 in /opt/conda/lib/python3.9/site-packages (from spacy<3.3.0,>=3.2.0->en-core-web-sm==3.2.0) (2.0.8)\n",
      "Requirement already satisfied: blis<0.8.0,>=0.4.0 in /opt/conda/lib/python3.9/site-packages (from spacy<3.3.0,>=3.2.0->en-core-web-sm==3.2.0) (0.7.8)\n",
      "Requirement already satisfied: thinc<8.1.0,>=8.0.12 in /opt/conda/lib/python3.9/site-packages (from spacy<3.3.0,>=3.2.0->en-core-web-sm==3.2.0) (8.0.17)\n",
      "Requirement already satisfied: pydantic!=1.8,!=1.8.1,<1.9.0,>=1.7.4 in /opt/conda/lib/python3.9/site-packages (from spacy<3.3.0,>=3.2.0->en-core-web-sm==3.2.0) (1.8.2)\n",
      "Requirement already satisfied: srsly<3.0.0,>=2.4.1 in /opt/conda/lib/python3.9/site-packages (from spacy<3.3.0,>=3.2.0->en-core-web-sm==3.2.0) (2.4.4)\n",
      "Requirement already satisfied: preshed<3.1.0,>=3.0.2 in /opt/conda/lib/python3.9/site-packages (from spacy<3.3.0,>=3.2.0->en-core-web-sm==3.2.0) (3.0.7)\n",
      "Requirement already satisfied: wasabi<1.1.0,>=0.8.1 in /opt/conda/lib/python3.9/site-packages (from spacy<3.3.0,>=3.2.0->en-core-web-sm==3.2.0) (0.10.1)\n",
      "Requirement already satisfied: typer<0.5.0,>=0.3.0 in /opt/conda/lib/python3.9/site-packages (from spacy<3.3.0,>=3.2.0->en-core-web-sm==3.2.0) (0.4.2)\n",
      "Requirement already satisfied: spacy-legacy<3.1.0,>=3.0.8 in /opt/conda/lib/python3.9/site-packages (from spacy<3.3.0,>=3.2.0->en-core-web-sm==3.2.0) (3.0.10)\n",
      "Requirement already satisfied: numpy>=1.15.0 in /opt/conda/lib/python3.9/site-packages (from spacy<3.3.0,>=3.2.0->en-core-web-sm==3.2.0) (1.21.1)\n",
      "Requirement already satisfied: langcodes<4.0.0,>=3.2.0 in /opt/conda/lib/python3.9/site-packages (from spacy<3.3.0,>=3.2.0->en-core-web-sm==3.2.0) (3.3.0)\n",
      "Requirement already satisfied: packaging>=20.0 in /opt/conda/lib/python3.9/site-packages (from spacy<3.3.0,>=3.2.0->en-core-web-sm==3.2.0) (21.3)\n",
      "Requirement already satisfied: spacy-loggers<2.0.0,>=1.0.0 in /opt/conda/lib/python3.9/site-packages (from spacy<3.3.0,>=3.2.0->en-core-web-sm==3.2.0) (1.0.3)\n",
      "Requirement already satisfied: pyparsing!=3.0.5,>=2.0.2 in /opt/conda/lib/python3.9/site-packages (from packaging>=20.0->spacy<3.3.0,>=3.2.0->en-core-web-sm==3.2.0) (2.4.7)\n",
      "Requirement already satisfied: smart-open<6.0.0,>=5.2.1 in /opt/conda/lib/python3.9/site-packages (from pathy>=0.3.5->spacy<3.3.0,>=3.2.0->en-core-web-sm==3.2.0) (5.2.1)\n",
      "Requirement already satisfied: typing-extensions>=3.7.4.3 in /opt/conda/lib/python3.9/site-packages (from pydantic!=1.8,!=1.8.1,<1.9.0,>=1.7.4->spacy<3.3.0,>=3.2.0->en-core-web-sm==3.2.0) (4.3.0)\n",
      "Requirement already satisfied: urllib3<1.27,>=1.21.1 in /opt/conda/lib/python3.9/site-packages (from requests<3.0.0,>=2.13.0->spacy<3.3.0,>=3.2.0->en-core-web-sm==3.2.0) (1.26.6)\n",
      "Requirement already satisfied: chardet<5,>=3.0.2 in /opt/conda/lib/python3.9/site-packages (from requests<3.0.0,>=2.13.0->spacy<3.3.0,>=3.2.0->en-core-web-sm==3.2.0) (4.0.0)\n",
      "Requirement already satisfied: idna<3,>=2.5 in /opt/conda/lib/python3.9/site-packages (from requests<3.0.0,>=2.13.0->spacy<3.3.0,>=3.2.0->en-core-web-sm==3.2.0) (2.10)\n",
      "Requirement already satisfied: certifi>=2017.4.17 in /opt/conda/lib/python3.9/site-packages (from requests<3.0.0,>=2.13.0->spacy<3.3.0,>=3.2.0->en-core-web-sm==3.2.0) (2022.6.15)\n",
      "Requirement already satisfied: click<9.0.0,>=7.1.1 in /opt/conda/lib/python3.9/site-packages (from typer<0.5.0,>=0.3.0->spacy<3.3.0,>=3.2.0->en-core-web-sm==3.2.0) (8.1.3)\n",
      "Requirement already satisfied: MarkupSafe>=2.0 in /opt/conda/lib/python3.9/site-packages (from jinja2->spacy<3.3.0,>=3.2.0->en-core-web-sm==3.2.0) (2.1.1)\n",
      "\u001b[38;5;2m✔ Download and installation successful\u001b[0m\n",
      "You can now load the package via spacy.load('en_core_web_sm')\n"
     ]
    }
   ],
   "source": [
    "import pandas as pd\n",
    "import nltk\n",
    "import re\n",
    "import nltk\n",
    "import sys\n",
    "import spacy\n",
    "import matplotlib.pyplot as plt\n",
    "\n",
    "from sklearn.ensemble import RandomForestClassifier\n",
    "from sklearn.linear_model import LogisticRegression\n",
    "from sklearn.linear_model import LinearRegression\n",
    "from sklearn.model_selection import train_test_split\n",
    "from nltk.stem import WordNetLemmatizer\n",
    "from nltk.corpus import stopwords\n",
    "from sklearn.feature_extraction.text import CountVectorizer\n",
    "from sklearn.feature_extraction.text import TfidfVectorizer \n",
    "from sklearn.metrics import f1_score\n",
    "from sklearn.metrics import roc_curve\n",
    "from sklearn.metrics import roc_auc_score\n",
    "\n",
    "nltk.download('stopwords')\n",
    "nltk.download('wordnet')\n",
    "!{sys.executable} -m pip install spacy\n",
    "!{sys.executable} -m spacy download en\n",
    "\n",
    "#from pymystem3 import Mystem\n",
    "#m = Mystem()"
   ]
  },
  {
   "cell_type": "code",
   "execution_count": 2,
   "metadata": {},
   "outputs": [],
   "source": [
    "df = pd.read_csv('/datasets/toxic_comments.csv')"
   ]
  },
  {
   "cell_type": "code",
   "execution_count": 3,
   "metadata": {},
   "outputs": [
    {
     "data": {
      "text/html": [
       "<div>\n",
       "<style scoped>\n",
       "    .dataframe tbody tr th:only-of-type {\n",
       "        vertical-align: middle;\n",
       "    }\n",
       "\n",
       "    .dataframe tbody tr th {\n",
       "        vertical-align: top;\n",
       "    }\n",
       "\n",
       "    .dataframe thead th {\n",
       "        text-align: right;\n",
       "    }\n",
       "</style>\n",
       "<table border=\"1\" class=\"dataframe\">\n",
       "  <thead>\n",
       "    <tr style=\"text-align: right;\">\n",
       "      <th></th>\n",
       "      <th>Unnamed: 0</th>\n",
       "      <th>text</th>\n",
       "      <th>toxic</th>\n",
       "    </tr>\n",
       "  </thead>\n",
       "  <tbody>\n",
       "    <tr>\n",
       "      <th>0</th>\n",
       "      <td>0</td>\n",
       "      <td>Explanation\\nWhy the edits made under my usern...</td>\n",
       "      <td>0</td>\n",
       "    </tr>\n",
       "    <tr>\n",
       "      <th>1</th>\n",
       "      <td>1</td>\n",
       "      <td>D'aww! He matches this background colour I'm s...</td>\n",
       "      <td>0</td>\n",
       "    </tr>\n",
       "    <tr>\n",
       "      <th>2</th>\n",
       "      <td>2</td>\n",
       "      <td>Hey man, I'm really not trying to edit war. It...</td>\n",
       "      <td>0</td>\n",
       "    </tr>\n",
       "    <tr>\n",
       "      <th>3</th>\n",
       "      <td>3</td>\n",
       "      <td>\"\\nMore\\nI can't make any real suggestions on ...</td>\n",
       "      <td>0</td>\n",
       "    </tr>\n",
       "    <tr>\n",
       "      <th>4</th>\n",
       "      <td>4</td>\n",
       "      <td>You, sir, are my hero. Any chance you remember...</td>\n",
       "      <td>0</td>\n",
       "    </tr>\n",
       "    <tr>\n",
       "      <th>5</th>\n",
       "      <td>5</td>\n",
       "      <td>\"\\n\\nCongratulations from me as well, use the ...</td>\n",
       "      <td>0</td>\n",
       "    </tr>\n",
       "    <tr>\n",
       "      <th>6</th>\n",
       "      <td>6</td>\n",
       "      <td>COCKSUCKER BEFORE YOU PISS AROUND ON MY WORK</td>\n",
       "      <td>1</td>\n",
       "    </tr>\n",
       "    <tr>\n",
       "      <th>7</th>\n",
       "      <td>7</td>\n",
       "      <td>Your vandalism to the Matt Shirvington article...</td>\n",
       "      <td>0</td>\n",
       "    </tr>\n",
       "    <tr>\n",
       "      <th>8</th>\n",
       "      <td>8</td>\n",
       "      <td>Sorry if the word 'nonsense' was offensive to ...</td>\n",
       "      <td>0</td>\n",
       "    </tr>\n",
       "    <tr>\n",
       "      <th>9</th>\n",
       "      <td>9</td>\n",
       "      <td>alignment on this subject and which are contra...</td>\n",
       "      <td>0</td>\n",
       "    </tr>\n",
       "  </tbody>\n",
       "</table>\n",
       "</div>"
      ],
      "text/plain": [
       "   Unnamed: 0                                               text  toxic\n",
       "0           0  Explanation\\nWhy the edits made under my usern...      0\n",
       "1           1  D'aww! He matches this background colour I'm s...      0\n",
       "2           2  Hey man, I'm really not trying to edit war. It...      0\n",
       "3           3  \"\\nMore\\nI can't make any real suggestions on ...      0\n",
       "4           4  You, sir, are my hero. Any chance you remember...      0\n",
       "5           5  \"\\n\\nCongratulations from me as well, use the ...      0\n",
       "6           6       COCKSUCKER BEFORE YOU PISS AROUND ON MY WORK      1\n",
       "7           7  Your vandalism to the Matt Shirvington article...      0\n",
       "8           8  Sorry if the word 'nonsense' was offensive to ...      0\n",
       "9           9  alignment on this subject and which are contra...      0"
      ]
     },
     "metadata": {},
     "output_type": "display_data"
    }
   ],
   "source": [
    "display(df.head(10))"
   ]
  },
  {
   "cell_type": "markdown",
   "metadata": {},
   "source": [
    "### Создаю корпус постов"
   ]
  },
  {
   "cell_type": "code",
   "execution_count": 4,
   "metadata": {},
   "outputs": [
    {
     "name": "stdout",
     "output_type": "stream",
     "text": [
      "D'aww! He matches this background colour I'm seemingly stuck with. Thanks.  (talk) 21:51, January 11, 2016 (UTC)\n"
     ]
    }
   ],
   "source": [
    "corpus = list(df['text'])\n",
    "print (corpus[1])"
   ]
  },
  {
   "cell_type": "markdown",
   "metadata": {},
   "source": [
    "### Пишу функции для лемматизации текста и очистки от лишних символов"
   ]
  },
  {
   "cell_type": "code",
   "execution_count": 5,
   "metadata": {},
   "outputs": [
    {
     "name": "stdout",
     "output_type": "stream",
     "text": [
      "Исходный текст: Explanation\n",
      "Why the edits made under my username Hardcore Metallica Fan were reverted? They weren't vandalisms, just closure on some GAs after I voted at New York Dolls FAC. And please don't remove the template from the talk page since I'm retired now.89.205.38.27\n",
      "\n",
      "Лемматизированный текст: Explanation Why the edits made under my username Hardcore Metallica Fan were reverted ? They were n't vandalism , just closure on some GAs after I voted at New York Dolls FAC . And please do n't remove the template from the talk page since I 'm retired now.89.205.38.27\n"
     ]
    }
   ],
   "source": [
    "lemmatizer = WordNetLemmatizer()\n",
    "\n",
    "def lemmatize(text):\n",
    "    word_list = nltk.word_tokenize(text)\n",
    "    lemm_list = [lemmatizer.lemmatize(i) for i in word_list]\n",
    "    lemm_text = \" \".join(lemm_list)\n",
    "    return lemm_text\n",
    "\n",
    "\n",
    "print(\"Исходный текст:\", corpus[0])\n",
    "print (\"\")\n",
    "print(\"Лемматизированный текст:\", lemmatize(corpus[0]))"
   ]
  },
  {
   "cell_type": "markdown",
   "metadata": {},
   "source": [
    "### Пишу функцию для очистки текста от лишних символов"
   ]
  },
  {
   "cell_type": "code",
   "execution_count": 6,
   "metadata": {},
   "outputs": [
    {
     "name": "stdout",
     "output_type": "stream",
     "text": [
      "Лемматизированный текст: Explanation Why the edits made under my username Hardcore Metallica Fan were reverted ? They were n't vandalism , just closure on some GAs after I voted at New York Dolls FAC . And please do n't remove the template from the talk page since I 'm retired now.89.205.38.27\n",
      "Лемматизированный и очищенный текст: Explanation Why the edits made under my username Hardcore Metallica Fan were reverted They were n t vandalism just closure on some GAs after I voted at New York Dolls FAC And please do n t remove the template from the talk page since I m retired now\n"
     ]
    }
   ],
   "source": [
    "def clear_text(text):\n",
    "    b = re.sub(r'[^^a-zA-Z]', ' ', text).split()\n",
    "    c = \" \".join(b)\n",
    "    return c\n",
    "\n",
    "print(\"Лемматизированный текст:\", lemmatize(corpus[0]))\n",
    "print(\"Лемматизированный и очищенный текст:\", clear_text(lemmatize(corpus[0])))"
   ]
  },
  {
   "cell_type": "markdown",
   "metadata": {},
   "source": [
    "### Применяю функции лемматизации и очистки текста"
   ]
  },
  {
   "cell_type": "code",
   "execution_count": 7,
   "metadata": {},
   "outputs": [
    {
     "name": "stdout",
     "output_type": "stream",
     "text": [
      "0    Explanation Why the edits made under my userna...\n",
      "1    D aww He match this background colour I m seem...\n",
      "2    Hey man I m really not trying to edit war It s...\n",
      "3    More I ca n t make any real suggestion on impr...\n",
      "4    You sir are my hero Any chance you remember wh...\n",
      "Name: text, dtype: object\n"
     ]
    }
   ],
   "source": [
    "corpus_lemm_clear = df['text'].apply(lambda x: clear_text(lemmatize(x)))\n",
    "\n",
    "print (corpus_lemm_clear.head(5))"
   ]
  },
  {
   "cell_type": "markdown",
   "metadata": {},
   "source": [
    "### Делю данные на тренировочные, валидационные и тестовые"
   ]
  },
  {
   "cell_type": "code",
   "execution_count": 8,
   "metadata": {},
   "outputs": [],
   "source": [
    "features_train, features_valid = train_test_split(corpus_lemm_clear, test_size=0.4, random_state=12345)\n",
    "features_valid, features_test = train_test_split(features_valid, test_size=0.5, random_state=12345)\n",
    "\n",
    "target_train, target_valid = train_test_split(df['toxic'], test_size=0.4, random_state=12345)\n",
    "target_valid, target_test = train_test_split(target_valid, test_size=0.5, random_state=12345)"
   ]
  },
  {
   "cell_type": "markdown",
   "metadata": {},
   "source": [
    "### Перевожу слова в векторный формат. Не получилось убрать стоп-слова здесь, не могу понять почему код не работает("
   ]
  },
  {
   "cell_type": "code",
   "execution_count": 9,
   "metadata": {},
   "outputs": [],
   "source": [
    "#index_stop = list(stopwords.words('english'))\n",
    "#tf_idf = TfidfVectorizer(index_stop=stopwords)\n",
    "\n",
    "tf_idf = TfidfVectorizer()\n",
    "features_train_tfidf = tf_idf.fit_transform(features_train)\n",
    "features_valid_tfidf = tf_idf.transform(features_valid)\n",
    "features_test_tfidf = tf_idf.transform(features_test)"
   ]
  },
  {
   "cell_type": "markdown",
   "metadata": {},
   "source": [
    "## Обучение"
   ]
  },
  {
   "cell_type": "markdown",
   "metadata": {},
   "source": [
    "В нашем случае мы решаем задачу бинарной классификации (отзыв положительный или отрицательный). Выбираю для оценки моделей метрику F1 поскольку она является средним гармоническим точности и полноты."
   ]
  },
  {
   "cell_type": "markdown",
   "metadata": {},
   "source": [
    "### Исследую модель случайного леса"
   ]
  },
  {
   "cell_type": "code",
   "execution_count": 10,
   "metadata": {},
   "outputs": [
    {
     "name": "stdout",
     "output_type": "stream",
     "text": [
      "F1 наилучшей модели на валидационной выборке: 0.23443223443223446\n",
      "Какие гиперпараметры дали наилучший результат: RandomForestClassifier(max_depth=15, n_estimators=2, random_state=12345)\n",
      "CPU times: user 1min 25s, sys: 5.7 s, total: 1min 31s\n",
      "Wall time: 1min 31s\n"
     ]
    }
   ],
   "source": [
    "%%time\n",
    "\n",
    "best_model = None\n",
    "best_result = 0\n",
    "for est in range(1, 16):\n",
    "    for depth in range(1, 16):\n",
    "        model = RandomForestClassifier(random_state=12345, n_estimators=est, max_depth=depth)\n",
    "        model.fit(features_train_tfidf, target_train)\n",
    "        predictions_valid = model.predict(features_valid_tfidf)\n",
    "        result = f1_score(target_valid, predictions_valid)\n",
    "        if result > best_result:\n",
    "            best_model = model\n",
    "            best_result = result\n",
    "\n",
    "print(\"F1 наилучшей модели на валидационной выборке:\", best_result)\n",
    "print (\"Какие гиперпараметры дали наилучший результат:\", best_model)"
   ]
  },
  {
   "cell_type": "markdown",
   "metadata": {},
   "source": [
    "#### Строю ROC кривую для случайного леса и рассчитываю AUC-ROC (насколько сильно модель отличается от случайной)"
   ]
  },
  {
   "cell_type": "code",
   "execution_count": 11,
   "metadata": {},
   "outputs": [
    {
     "data": {
      "image/png": "[encoded data removed]",
      "text/plain": [
       "<Figure size 432x288 with 1 Axes>"
      ]
     },
     "metadata": {
      "needs_background": "light"
     },
     "output_type": "display_data"
    },
    {
     "name": "stdout",
     "output_type": "stream",
     "text": [
      "0.829683658351849\n"
     ]
    }
   ],
   "source": [
    "probabilities_valid = model.predict_proba(features_valid_tfidf)\n",
    "probabilities_one_valid = probabilities_valid[:, 1]\n",
    "\n",
    "fpr, tpr, thresholds = roc_curve(target_valid, probabilities_one_valid)\n",
    "\n",
    "plt.figure()\n",
    "plt.plot(fpr, tpr)\n",
    "\n",
    "# ROC-кривая случайной модели\n",
    "plt.plot([0, 1], [0, 1], linestyle='--')\n",
    "plt.xlim([0.0, 1.0])\n",
    "plt.ylim([0.0, 1.0])\n",
    "plt.xlabel('False Positive Rate')\n",
    "plt.ylabel('True Positive Rate')\n",
    "plt.title('ROC-кривая')\n",
    "plt.show()\n",
    "\n",
    "#рассчитываю AUC-ROC\n",
    "\n",
    "auc_roc = roc_auc_score(target_valid, probabilities_one_valid, multi_class='ovr')\n",
    "\n",
    "print(auc_roc)"
   ]
  },
  {
   "cell_type": "markdown",
   "metadata": {},
   "source": [
    "Из графика видно, что модель работает и отличается от случайной"
   ]
  },
  {
   "cell_type": "markdown",
   "metadata": {},
   "source": [
    "### Исследую модель логистической регрессии"
   ]
  },
  {
   "cell_type": "code",
   "execution_count": 12,
   "metadata": {
    "scrolled": true
   },
   "outputs": [
    {
     "name": "stdout",
     "output_type": "stream",
     "text": [
      "F1 наилучшей модели на валидационной выборке: 0.7846285226302304\n",
      "Какие гиперпараметры дали наилучший результат: LogisticRegression(max_iter=500, penalty='l1', random_state=12345,\n",
      "                   solver='liblinear')\n",
      "CPU times: user 19.5 s, sys: 12.5 s, total: 32 s\n",
      "Wall time: 32 s\n"
     ]
    }
   ],
   "source": [
    "%%time\n",
    "\n",
    "best_model = None\n",
    "best_result = 0\n",
    "list_penalty = ['l1', 'l2']\n",
    "list = [500, 600, 700]\n",
    "for iter in list:\n",
    "    for index in list_penalty:\n",
    "        model = LogisticRegression(random_state=12345, solver='liblinear', max_iter=iter, penalty=index)\n",
    "        model.fit(features_train_tfidf, target_train)\n",
    "        predictions_valid = model.predict(features_valid_tfidf)\n",
    "        result = f1_score(target_valid, predictions_valid)\n",
    "        if result > best_result:\n",
    "            best_model = model\n",
    "            best_result = result\n",
    "\n",
    "print(\"F1 наилучшей модели на валидационной выборке:\", best_result)\n",
    "print (\"Какие гиперпараметры дали наилучший результат:\", best_model)"
   ]
  },
  {
   "cell_type": "markdown",
   "metadata": {},
   "source": [
    "### Подбираю параметры для линейной регрессии через GridSearch"
   ]
  },
  {
   "cell_type": "code",
   "execution_count": 19,
   "metadata": {},
   "outputs": [
    {
     "data": {
      "text/plain": [
       "{'C': 9, 'class_weight': 'balanced', 'max_iter': 500}"
      ]
     },
     "execution_count": 19,
     "metadata": {},
     "output_type": "execute_result"
    }
   ],
   "source": [
    "from sklearn.model_selection import GridSearchCV\n",
    "\n",
    "clf = LogisticRegression () #объявляем классификатор\n",
    "\n",
    "param = { 'C': range(1, 11, 2), 'class_weight': [None, 'balanced'], 'max_iter': range (500, 700, 100) } #задаем параметры классификатора\n",
    "\n",
    "grid = GridSearchCV(estimator = clf, \n",
    "                    param_grid = param,\n",
    "                    cv = 3,\n",
    "                    n_jobs = -1, \n",
    "                    verbose = 0, \n",
    "                    scoring = 'f1') #запускаем обучение\n",
    "grid.fit(features_train_tfidf, target_train)\n",
    "\n",
    "grid.best_score_ #выводим наилучшую метрику\n",
    "grid.best_params_ #выводим наилучшие параметры модели"
   ]
  },
  {
   "cell_type": "markdown",
   "metadata": {},
   "source": [
    "#### Строю ROC кривую для логистической регрессии и рассчитываю AUC-ROC (насколько сильно модель отличается от случайной)"
   ]
  },
  {
   "cell_type": "code",
   "execution_count": 13,
   "metadata": {},
   "outputs": [
    {
     "data": {
      "image/png": "[encoded data removed]",
      "text/plain": [
       "<Figure size 432x288 with 1 Axes>"
      ]
     },
     "metadata": {
      "needs_background": "light"
     },
     "output_type": "display_data"
    },
    {
     "name": "stdout",
     "output_type": "stream",
     "text": [
      "0.9698216284917771\n"
     ]
    }
   ],
   "source": [
    "probabilities_valid = model.predict_proba(features_valid_tfidf)\n",
    "probabilities_one_valid = probabilities_valid[:, 1]\n",
    "\n",
    "fpr, tpr, thresholds = roc_curve(target_valid, probabilities_one_valid)\n",
    "\n",
    "plt.figure()\n",
    "plt.plot(fpr, tpr)\n",
    "\n",
    "# ROC-кривая случайной модели\n",
    "plt.plot([0, 1], [0, 1], linestyle='--')\n",
    "plt.xlim([0.0, 1.0])\n",
    "plt.ylim([0.0, 1.0])\n",
    "plt.xlabel('False Positive Rate')\n",
    "plt.ylabel('True Positive Rate')\n",
    "plt.title('ROC-кривая')\n",
    "plt.show()\n",
    "\n",
    "#рассчитываю AUC-ROC\n",
    "auc_roc = roc_auc_score(target_valid, probabilities_one_valid, multi_class='ovr')\n",
    "print(auc_roc)"
   ]
  },
  {
   "cell_type": "markdown",
   "metadata": {},
   "source": [
    "Из графика видно, что модель работает и отличается от случайной"
   ]
  },
  {
   "cell_type": "markdown",
   "metadata": {},
   "source": [
    "## Тестирование модели"
   ]
  },
  {
   "cell_type": "markdown",
   "metadata": {},
   "source": [
    "Наилучший результат (F1=0.78) показала модель логистической регрессии, поэтому тестирую именно ее"
   ]
  },
  {
   "cell_type": "code",
   "execution_count": 14,
   "metadata": {},
   "outputs": [
    {
     "name": "stdout",
     "output_type": "stream",
     "text": [
      "F1 тестовой выборки случайного леса 0.7708665603402445\n"
     ]
    }
   ],
   "source": [
    "model = LogisticRegression(random_state=12345, solver='liblinear', max_iter=500, penalty='l1')\n",
    "model.fit(features_train_tfidf, target_train)\n",
    "predictions_test = model.predict(features_test_tfidf)\n",
    "\n",
    "f1 = f1_score(target_test, predictions_test)\n",
    "print ('F1 тестовой выборки случайного леса', f1)"
   ]
  },
  {
   "cell_type": "code",
   "execution_count": 15,
   "metadata": {},
   "outputs": [
    {
     "data": {
      "image/png": "[encoded data removed]",
      "text/plain": [
       "<Figure size 432x288 with 1 Axes>"
      ]
     },
     "metadata": {
      "needs_background": "light"
     },
     "output_type": "display_data"
    },
    {
     "name": "stdout",
     "output_type": "stream",
     "text": [
      "0.968139025118638\n"
     ]
    }
   ],
   "source": [
    "probabilities_valid = model.predict_proba(features_test_tfidf)\n",
    "probabilities_one_valid = probabilities_valid[:, 1]\n",
    "\n",
    "fpr, tpr, thresholds = roc_curve(target_test, probabilities_one_valid)\n",
    "\n",
    "plt.figure()\n",
    "plt.plot(fpr, tpr)\n",
    "\n",
    "# ROC-кривая случайной модели\n",
    "plt.plot([0, 1], [0, 1], linestyle='--')\n",
    "plt.xlim([0.0, 1.0])\n",
    "plt.ylim([0.0, 1.0])\n",
    "plt.xlabel('False Positive Rate')\n",
    "plt.ylabel('True Positive Rate')\n",
    "plt.title('ROC-кривая')\n",
    "plt.show()\n",
    "\n",
    "#рассчитываю AUC-ROC\n",
    "auc_roc = roc_auc_score(target_test, probabilities_one_valid, multi_class='ovr')\n",
    "\n",
    "print(auc_roc)"
   ]
  },
  {
   "cell_type": "markdown",
   "metadata": {},
   "source": [
    "Из графика видно, что модель работает и отличается от случайной"
   ]
  },
  {
   "cell_type": "markdown",
   "metadata": {},
   "source": [
    "## Выводы"
   ]
  },
  {
   "cell_type": "markdown",
   "metadata": {},
   "source": [
    "Интернет-магазин «Викишоп» запустил новый сервис, в котором пользователи могут редактировать и дополнять описания товаров, как в вики-сообществах. То есть клиенты предлагают свои правки и комментируют изменения других. Поэтому магазину понадобился инструмент, который будет искать токсичные комментарии и отправлять их на модерацию.\n",
    "\n",
    "Я исследовала модели случайного леса и логистической регрессии. Наилучший результат показала модель логистической регрессии, с помощью которой удалось добиться метрики F1=0.78 на тренировочных данных и F1=0.77 на тестовых данных."
   ]
  }
 ],
 "metadata": {
  "ExecuteTimeLog": [
   {
    "duration": 1677,
    "start_time": "2023-08-04T07:42:50.015Z"
   },
   {
    "duration": 193,
    "start_time": "2023-08-04T07:42:54.306Z"
   },
   {
    "duration": 3511,
    "start_time": "2023-08-04T07:43:42.723Z"
   },
   {
    "duration": 11,
    "start_time": "2023-08-04T07:44:03.482Z"
   },
   {
    "duration": 6,
    "start_time": "2023-08-04T07:47:01.627Z"
   },
   {
    "duration": 2875,
    "start_time": "2023-08-04T07:47:52.810Z"
   },
   {
    "duration": 1725,
    "start_time": "2023-08-04T07:49:34.757Z"
   },
   {
    "duration": 3587,
    "start_time": "2023-08-04T07:49:36.484Z"
   },
   {
    "duration": 17,
    "start_time": "2023-08-04T07:49:40.073Z"
   },
   {
    "duration": 1954,
    "start_time": "2023-08-04T07:49:40.093Z"
   },
   {
    "duration": 878,
    "start_time": "2023-08-04T07:49:42.049Z"
   },
   {
    "duration": 23,
    "start_time": "2023-08-04T07:50:12.074Z"
   },
   {
    "duration": 5,
    "start_time": "2023-08-04T07:52:52.329Z"
   },
   {
    "duration": 6,
    "start_time": "2023-08-04T07:54:04.881Z"
   },
   {
    "duration": 1681,
    "start_time": "2023-08-04T07:55:16.806Z"
   },
   {
    "duration": 3560,
    "start_time": "2023-08-04T07:55:18.489Z"
   },
   {
    "duration": 15,
    "start_time": "2023-08-04T07:55:22.051Z"
   },
   {
    "duration": 145,
    "start_time": "2023-08-04T07:55:22.068Z"
   },
   {
    "duration": 4275,
    "start_time": "2023-08-04T07:55:33.818Z"
   },
   {
    "duration": 6,
    "start_time": "2023-08-04T07:55:41.129Z"
   },
   {
    "duration": 9,
    "start_time": "2023-08-04T07:57:05.771Z"
   },
   {
    "duration": 758,
    "start_time": "2023-08-04T07:57:55.290Z"
   },
   {
    "duration": 742,
    "start_time": "2023-08-04T07:58:13.283Z"
   },
   {
    "duration": 5,
    "start_time": "2023-08-04T07:58:50.618Z"
   },
   {
    "duration": 14,
    "start_time": "2023-08-04T07:59:40.193Z"
   },
   {
    "duration": 4,
    "start_time": "2023-08-04T08:00:00.585Z"
   },
   {
    "duration": 4,
    "start_time": "2023-08-04T08:00:09.882Z"
   },
   {
    "duration": 6493,
    "start_time": "2023-08-04T08:00:28.965Z"
   },
   {
    "duration": 4341,
    "start_time": "2023-08-04T08:01:12.801Z"
   },
   {
    "duration": 4400,
    "start_time": "2023-08-04T08:01:26.226Z"
   },
   {
    "duration": 5,
    "start_time": "2023-08-04T08:02:45.664Z"
   },
   {
    "duration": 5,
    "start_time": "2023-08-04T08:02:58.440Z"
   },
   {
    "duration": 4,
    "start_time": "2023-08-04T08:03:19.536Z"
   },
   {
    "duration": 5,
    "start_time": "2023-08-04T08:04:38.778Z"
   },
   {
    "duration": 769,
    "start_time": "2023-08-04T08:05:22.265Z"
   },
   {
    "duration": 0,
    "start_time": "2023-08-04T08:30:16.980Z"
   },
   {
    "duration": 17441,
    "start_time": "2023-08-04T08:30:18.612Z"
   },
   {
    "duration": 16,
    "start_time": "2023-08-04T08:44:02.331Z"
   },
   {
    "duration": 6,
    "start_time": "2023-08-04T08:45:35.683Z"
   },
   {
    "duration": 1557,
    "start_time": "2023-08-08T07:40:31.015Z"
   },
   {
    "duration": 3612,
    "start_time": "2023-08-08T07:40:32.574Z"
   },
   {
    "duration": 10,
    "start_time": "2023-08-08T07:40:36.187Z"
   },
   {
    "duration": 106,
    "start_time": "2023-08-08T07:40:36.198Z"
   },
   {
    "duration": 130,
    "start_time": "2023-08-08T07:40:36.306Z"
   },
   {
    "duration": 0,
    "start_time": "2023-08-08T07:40:36.437Z"
   },
   {
    "duration": 0,
    "start_time": "2023-08-08T07:40:36.439Z"
   },
   {
    "duration": 15,
    "start_time": "2023-08-08T07:41:19.577Z"
   },
   {
    "duration": 15,
    "start_time": "2023-08-08T08:02:34.023Z"
   },
   {
    "duration": 29,
    "start_time": "2023-08-08T08:02:39.436Z"
   },
   {
    "duration": 12,
    "start_time": "2023-08-08T08:02:44.533Z"
   },
   {
    "duration": 6,
    "start_time": "2023-08-08T08:02:55.854Z"
   },
   {
    "duration": 812,
    "start_time": "2023-08-08T08:02:55.862Z"
   },
   {
    "duration": 10,
    "start_time": "2023-08-08T08:02:56.676Z"
   },
   {
    "duration": 54,
    "start_time": "2023-08-08T08:02:56.688Z"
   },
   {
    "duration": 13,
    "start_time": "2023-08-08T08:02:56.761Z"
   },
   {
    "duration": 0,
    "start_time": "2023-08-08T08:02:56.776Z"
   },
   {
    "duration": 0,
    "start_time": "2023-08-08T08:02:56.777Z"
   },
   {
    "duration": 1520,
    "start_time": "2023-08-08T08:03:08.246Z"
   },
   {
    "duration": 834,
    "start_time": "2023-08-08T08:03:09.768Z"
   },
   {
    "duration": 9,
    "start_time": "2023-08-08T08:03:10.604Z"
   },
   {
    "duration": 44,
    "start_time": "2023-08-08T08:03:10.616Z"
   },
   {
    "duration": 123,
    "start_time": "2023-08-08T08:03:10.662Z"
   },
   {
    "duration": 0,
    "start_time": "2023-08-08T08:03:10.787Z"
   },
   {
    "duration": 0,
    "start_time": "2023-08-08T08:03:10.788Z"
   },
   {
    "duration": 8,
    "start_time": "2023-08-08T08:04:03.438Z"
   },
   {
    "duration": 1302,
    "start_time": "2023-08-08T08:04:07.392Z"
   },
   {
    "duration": 11,
    "start_time": "2023-08-08T08:40:22.891Z"
   },
   {
    "duration": 7,
    "start_time": "2023-08-08T08:40:52.377Z"
   },
   {
    "duration": 61,
    "start_time": "2023-08-08T08:40:57.570Z"
   },
   {
    "duration": 91,
    "start_time": "2023-08-08T08:41:11.866Z"
   },
   {
    "duration": 88,
    "start_time": "2023-08-08T08:41:21.865Z"
   },
   {
    "duration": 11,
    "start_time": "2023-08-08T08:56:33.112Z"
   },
   {
    "duration": 8,
    "start_time": "2023-08-08T08:58:05.280Z"
   },
   {
    "duration": 16,
    "start_time": "2023-08-08T08:58:39.960Z"
   },
   {
    "duration": 1746,
    "start_time": "2023-08-08T08:59:22.958Z"
   },
   {
    "duration": 919,
    "start_time": "2023-08-08T08:59:24.706Z"
   },
   {
    "duration": 11,
    "start_time": "2023-08-08T08:59:25.627Z"
   },
   {
    "duration": 56,
    "start_time": "2023-08-08T08:59:25.640Z"
   },
   {
    "duration": 1452,
    "start_time": "2023-08-08T08:59:25.698Z"
   },
   {
    "duration": 102,
    "start_time": "2023-08-08T08:59:27.152Z"
   },
   {
    "duration": 140,
    "start_time": "2023-08-08T08:59:27.256Z"
   },
   {
    "duration": 6,
    "start_time": "2023-08-08T09:05:38.908Z"
   },
   {
    "duration": 139,
    "start_time": "2023-08-08T09:07:18.311Z"
   },
   {
    "duration": 4,
    "start_time": "2023-08-08T09:07:44.390Z"
   },
   {
    "duration": 6,
    "start_time": "2023-08-08T09:08:21.205Z"
   },
   {
    "duration": 5,
    "start_time": "2023-08-08T09:10:09.423Z"
   },
   {
    "duration": 4,
    "start_time": "2023-08-08T09:13:37.071Z"
   },
   {
    "duration": 13300,
    "start_time": "2023-08-11T13:29:11.997Z"
   },
   {
    "duration": 14259,
    "start_time": "2023-08-11T13:29:40.244Z"
   },
   {
    "duration": 3292,
    "start_time": "2023-08-11T13:31:16.719Z"
   },
   {
    "duration": 16,
    "start_time": "2023-08-11T13:31:21.202Z"
   },
   {
    "duration": 34,
    "start_time": "2023-08-11T13:31:24.367Z"
   },
   {
    "duration": 408,
    "start_time": "2023-08-11T13:32:08.606Z"
   },
   {
    "duration": 17196,
    "start_time": "2023-08-11T13:32:43.860Z"
   },
   {
    "duration": 816,
    "start_time": "2023-08-11T13:33:01.059Z"
   },
   {
    "duration": 19,
    "start_time": "2023-08-11T13:33:01.877Z"
   },
   {
    "duration": 92,
    "start_time": "2023-08-11T13:33:01.899Z"
   },
   {
    "duration": 647,
    "start_time": "2023-08-11T13:33:01.993Z"
   },
   {
    "duration": 0,
    "start_time": "2023-08-11T13:33:02.641Z"
   },
   {
    "duration": 0,
    "start_time": "2023-08-11T13:33:02.642Z"
   },
   {
    "duration": 603,
    "start_time": "2023-08-11T13:33:30.264Z"
   },
   {
    "duration": 3,
    "start_time": "2023-08-11T13:33:55.760Z"
   },
   {
    "duration": 461,
    "start_time": "2023-08-11T13:33:58.288Z"
   },
   {
    "duration": 4,
    "start_time": "2023-08-11T13:34:19.919Z"
   },
   {
    "duration": 533,
    "start_time": "2023-08-11T13:34:22.704Z"
   },
   {
    "duration": 509,
    "start_time": "2023-08-11T13:34:37.704Z"
   },
   {
    "duration": 29,
    "start_time": "2023-08-11T13:37:15.200Z"
   },
   {
    "duration": 37,
    "start_time": "2023-08-11T13:37:41.089Z"
   },
   {
    "duration": 4,
    "start_time": "2023-08-11T13:37:53.936Z"
   },
   {
    "duration": 35,
    "start_time": "2023-08-11T13:39:13.680Z"
   },
   {
    "duration": 2188,
    "start_time": "2023-08-11T13:39:21.871Z"
   },
   {
    "duration": 34,
    "start_time": "2023-08-11T13:39:36.423Z"
   },
   {
    "duration": 1820,
    "start_time": "2023-08-11T13:43:04.247Z"
   },
   {
    "duration": 75,
    "start_time": "2023-08-11T13:43:50.561Z"
   },
   {
    "duration": 11,
    "start_time": "2023-08-11T13:46:47.888Z"
   },
   {
    "duration": 10,
    "start_time": "2023-08-11T13:46:58.081Z"
   },
   {
    "duration": 6,
    "start_time": "2023-08-11T13:47:09.102Z"
   },
   {
    "duration": 4,
    "start_time": "2023-08-11T13:47:15.615Z"
   },
   {
    "duration": 37,
    "start_time": "2023-08-11T13:47:27.230Z"
   },
   {
    "duration": 33,
    "start_time": "2023-08-11T13:47:38.310Z"
   },
   {
    "duration": 5,
    "start_time": "2023-08-11T13:48:54.910Z"
   },
   {
    "duration": 2183,
    "start_time": "2023-08-11T13:49:05.399Z"
   },
   {
    "duration": 33,
    "start_time": "2023-08-11T13:49:12.726Z"
   },
   {
    "duration": 37,
    "start_time": "2023-08-11T13:49:40.105Z"
   },
   {
    "duration": 5,
    "start_time": "2023-08-11T13:52:00.354Z"
   },
   {
    "duration": 20,
    "start_time": "2023-08-11T13:52:29.205Z"
   },
   {
    "duration": 5,
    "start_time": "2023-08-11T13:54:02.301Z"
   },
   {
    "duration": 6,
    "start_time": "2023-08-11T13:54:35.004Z"
   },
   {
    "duration": 20,
    "start_time": "2023-08-11T14:15:44.663Z"
   },
   {
    "duration": 5,
    "start_time": "2023-08-11T14:17:56.422Z"
   },
   {
    "duration": 6,
    "start_time": "2023-08-11T14:18:44.149Z"
   },
   {
    "duration": 5,
    "start_time": "2023-08-11T14:19:53.623Z"
   },
   {
    "duration": 5,
    "start_time": "2023-08-11T14:20:07.093Z"
   },
   {
    "duration": 120,
    "start_time": "2023-08-11T14:21:10.885Z"
   },
   {
    "duration": 6,
    "start_time": "2023-08-11T14:22:07.774Z"
   },
   {
    "duration": 80,
    "start_time": "2023-08-11T14:22:35.022Z"
   },
   {
    "duration": 23,
    "start_time": "2023-08-11T14:22:37.300Z"
   },
   {
    "duration": 4,
    "start_time": "2023-08-11T14:24:38.975Z"
   },
   {
    "duration": 16,
    "start_time": "2023-08-11T14:24:58.332Z"
   },
   {
    "duration": 22,
    "start_time": "2023-08-11T14:25:01.022Z"
   },
   {
    "duration": 15788,
    "start_time": "2023-08-14T08:04:04.470Z"
   },
   {
    "duration": 2465,
    "start_time": "2023-08-14T08:04:20.261Z"
   },
   {
    "duration": 20,
    "start_time": "2023-08-14T08:04:22.728Z"
   },
   {
    "duration": 42,
    "start_time": "2023-08-14T08:04:22.750Z"
   },
   {
    "duration": 1461,
    "start_time": "2023-08-14T08:04:22.794Z"
   },
   {
    "duration": 7,
    "start_time": "2023-08-14T08:04:24.257Z"
   },
   {
    "duration": 4,
    "start_time": "2023-08-14T08:04:27.807Z"
   },
   {
    "duration": 5,
    "start_time": "2023-08-14T08:04:34.197Z"
   },
   {
    "duration": 4,
    "start_time": "2023-08-14T08:04:44.381Z"
   },
   {
    "duration": 4,
    "start_time": "2023-08-14T08:07:52.029Z"
   },
   {
    "duration": 5,
    "start_time": "2023-08-14T08:08:33.117Z"
   },
   {
    "duration": 6,
    "start_time": "2023-08-14T11:31:26.768Z"
   },
   {
    "duration": 399,
    "start_time": "2023-08-14T11:31:39.968Z"
   },
   {
    "duration": 7,
    "start_time": "2023-08-14T11:31:52.482Z"
   },
   {
    "duration": 16220,
    "start_time": "2023-08-14T11:33:58.075Z"
   },
   {
    "duration": 945,
    "start_time": "2023-08-14T11:34:14.298Z"
   },
   {
    "duration": 22,
    "start_time": "2023-08-14T11:34:15.245Z"
   },
   {
    "duration": 91,
    "start_time": "2023-08-14T11:34:15.270Z"
   },
   {
    "duration": 1660,
    "start_time": "2023-08-14T11:34:15.363Z"
   },
   {
    "duration": 6,
    "start_time": "2023-08-14T11:34:17.025Z"
   },
   {
    "duration": 394,
    "start_time": "2023-08-14T11:34:17.033Z"
   },
   {
    "duration": 0,
    "start_time": "2023-08-14T11:34:17.429Z"
   },
   {
    "duration": 0,
    "start_time": "2023-08-14T11:34:17.431Z"
   },
   {
    "duration": 47,
    "start_time": "2023-08-14T11:35:10.483Z"
   },
   {
    "duration": 47,
    "start_time": "2023-08-14T11:35:22.835Z"
   },
   {
    "duration": 49,
    "start_time": "2023-08-14T11:48:22.834Z"
   },
   {
    "duration": 8,
    "start_time": "2023-08-14T11:48:27.970Z"
   },
   {
    "duration": 143336,
    "start_time": "2023-08-14T11:49:46.534Z"
   },
   {
    "duration": 24,
    "start_time": "2023-08-14T11:53:52.271Z"
   },
   {
    "duration": 20632,
    "start_time": "2023-08-14T11:55:10.671Z"
   },
   {
    "duration": 146070,
    "start_time": "2023-08-14T11:55:43.168Z"
   },
   {
    "duration": 26,
    "start_time": "2023-08-14T12:06:24.043Z"
   },
   {
    "duration": 25,
    "start_time": "2023-08-14T12:06:43.336Z"
   },
   {
    "duration": 115,
    "start_time": "2023-08-14T12:07:47.057Z"
   },
   {
    "duration": 6,
    "start_time": "2023-08-14T12:08:28.537Z"
   },
   {
    "duration": 7,
    "start_time": "2023-08-14T12:15:37.878Z"
   },
   {
    "duration": 2190,
    "start_time": "2023-08-14T12:15:49.041Z"
   },
   {
    "duration": 6,
    "start_time": "2023-08-14T12:16:25.475Z"
   },
   {
    "duration": 46,
    "start_time": "2023-08-15T09:51:44.558Z"
   },
   {
    "duration": 0,
    "start_time": "2023-08-15T09:51:44.606Z"
   },
   {
    "duration": 0,
    "start_time": "2023-08-15T09:51:44.607Z"
   },
   {
    "duration": 0,
    "start_time": "2023-08-15T09:51:44.608Z"
   },
   {
    "duration": 0,
    "start_time": "2023-08-15T09:51:44.610Z"
   },
   {
    "duration": 0,
    "start_time": "2023-08-15T09:51:44.611Z"
   },
   {
    "duration": 8,
    "start_time": "2023-08-15T09:51:44.621Z"
   },
   {
    "duration": 13844,
    "start_time": "2023-08-15T09:52:06.423Z"
   },
   {
    "duration": 2476,
    "start_time": "2023-08-15T09:52:20.270Z"
   },
   {
    "duration": 19,
    "start_time": "2023-08-15T09:52:22.747Z"
   },
   {
    "duration": 56,
    "start_time": "2023-08-15T09:52:22.768Z"
   },
   {
    "duration": 1311,
    "start_time": "2023-08-15T09:52:22.826Z"
   },
   {
    "duration": 6,
    "start_time": "2023-08-15T09:52:24.139Z"
   },
   {
    "duration": 114435,
    "start_time": "2023-08-15T09:53:31.345Z"
   },
   {
    "duration": 15,
    "start_time": "2023-08-15T09:56:14.858Z"
   },
   {
    "duration": 29,
    "start_time": "2023-08-15T09:58:35.889Z"
   },
   {
    "duration": 14,
    "start_time": "2023-08-15T10:01:03.721Z"
   },
   {
    "duration": 16,
    "start_time": "2023-08-15T10:05:12.658Z"
   },
   {
    "duration": 134,
    "start_time": "2023-08-15T10:06:40.793Z"
   },
   {
    "duration": 126690,
    "start_time": "2023-08-15T10:20:58.170Z"
   },
   {
    "duration": 127172,
    "start_time": "2023-08-15T10:24:13.897Z"
   },
   {
    "duration": 46,
    "start_time": "2023-08-15T10:26:41.563Z"
   },
   {
    "duration": 26,
    "start_time": "2023-08-15T10:26:48.185Z"
   },
   {
    "duration": 31,
    "start_time": "2023-08-15T10:27:42.623Z"
   },
   {
    "duration": 72,
    "start_time": "2023-08-15T10:27:44.419Z"
   },
   {
    "duration": 31,
    "start_time": "2023-08-15T10:27:46.448Z"
   },
   {
    "duration": 17,
    "start_time": "2023-08-15T11:39:22.252Z"
   },
   {
    "duration": 16,
    "start_time": "2023-08-15T11:40:19.647Z"
   },
   {
    "duration": 16,
    "start_time": "2023-08-15T11:42:58.963Z"
   },
   {
    "duration": 15,
    "start_time": "2023-08-15T11:43:02.939Z"
   },
   {
    "duration": 15,
    "start_time": "2023-08-15T11:45:00.727Z"
   },
   {
    "duration": 15,
    "start_time": "2023-08-15T11:45:04.126Z"
   },
   {
    "duration": 30,
    "start_time": "2023-08-15T11:45:20.898Z"
   },
   {
    "duration": 21,
    "start_time": "2023-08-15T11:47:19.530Z"
   },
   {
    "duration": 19,
    "start_time": "2023-08-15T11:47:28.123Z"
   },
   {
    "duration": 17,
    "start_time": "2023-08-15T11:48:03.730Z"
   },
   {
    "duration": 23,
    "start_time": "2023-08-15T11:48:39.696Z"
   },
   {
    "duration": 7321,
    "start_time": "2023-08-15T11:50:45.184Z"
   },
   {
    "duration": 115,
    "start_time": "2023-08-16T12:26:04.642Z"
   },
   {
    "duration": 0,
    "start_time": "2023-08-16T12:26:04.759Z"
   },
   {
    "duration": 0,
    "start_time": "2023-08-16T12:26:04.760Z"
   },
   {
    "duration": 0,
    "start_time": "2023-08-16T12:26:04.761Z"
   },
   {
    "duration": 0,
    "start_time": "2023-08-16T12:26:04.762Z"
   },
   {
    "duration": 0,
    "start_time": "2023-08-16T12:26:04.763Z"
   },
   {
    "duration": 0,
    "start_time": "2023-08-16T12:26:04.764Z"
   },
   {
    "duration": 0,
    "start_time": "2023-08-16T12:26:04.765Z"
   },
   {
    "duration": 0,
    "start_time": "2023-08-16T12:26:04.766Z"
   },
   {
    "duration": 0,
    "start_time": "2023-08-16T12:26:04.767Z"
   },
   {
    "duration": 16652,
    "start_time": "2023-08-16T12:26:50.813Z"
   },
   {
    "duration": 3296,
    "start_time": "2023-08-16T12:27:07.468Z"
   },
   {
    "duration": 16,
    "start_time": "2023-08-16T12:27:10.766Z"
   },
   {
    "duration": 46,
    "start_time": "2023-08-16T12:27:10.784Z"
   },
   {
    "duration": 1318,
    "start_time": "2023-08-16T12:27:10.831Z"
   },
   {
    "duration": 9,
    "start_time": "2023-08-16T12:27:12.150Z"
   },
   {
    "duration": 130704,
    "start_time": "2023-08-16T12:27:12.161Z"
   },
   {
    "duration": 53,
    "start_time": "2023-08-16T12:29:22.867Z"
   },
   {
    "duration": 7374,
    "start_time": "2023-08-16T12:29:22.922Z"
   },
   {
    "duration": 320,
    "start_time": "2023-08-16T12:35:46.322Z"
   },
   {
    "duration": 51,
    "start_time": "2023-08-16T12:35:53.875Z"
   },
   {
    "duration": 144,
    "start_time": "2023-08-16T12:36:58.259Z"
   },
   {
    "duration": 9867,
    "start_time": "2023-08-16T12:37:38.938Z"
   },
   {
    "duration": 278,
    "start_time": "2023-08-16T12:37:48.808Z"
   },
   {
    "duration": 9869,
    "start_time": "2023-08-16T12:38:13.674Z"
   },
   {
    "duration": 80134,
    "start_time": "2023-08-16T12:38:23.545Z"
   },
   {
    "duration": 120,
    "start_time": "2023-08-16T12:41:18.666Z"
   },
   {
    "duration": 10429,
    "start_time": "2023-08-16T12:41:45.035Z"
   },
   {
    "duration": 267,
    "start_time": "2023-08-16T12:41:55.467Z"
   },
   {
    "duration": 31435,
    "start_time": "2023-08-16T12:44:27.674Z"
   },
   {
    "duration": 146,
    "start_time": "2023-08-16T12:46:08.050Z"
   },
   {
    "duration": 36,
    "start_time": "2023-08-16T12:51:28.024Z"
   },
   {
    "duration": 4,
    "start_time": "2023-08-16T12:52:07.377Z"
   },
   {
    "duration": 4,
    "start_time": "2023-08-16T12:52:18.048Z"
   },
   {
    "duration": 32,
    "start_time": "2023-08-16T12:52:36.409Z"
   },
   {
    "duration": 1434,
    "start_time": "2023-08-16T12:56:32.033Z"
   },
   {
    "duration": 125,
    "start_time": "2023-08-16T12:56:59.872Z"
   },
   {
    "duration": 16639,
    "start_time": "2023-08-16T13:06:31.604Z"
   },
   {
    "duration": 771,
    "start_time": "2023-08-16T13:06:48.246Z"
   },
   {
    "duration": 12,
    "start_time": "2023-08-16T13:06:49.019Z"
   },
   {
    "duration": 31,
    "start_time": "2023-08-16T13:06:49.033Z"
   },
   {
    "duration": 1423,
    "start_time": "2023-08-16T13:06:49.077Z"
   },
   {
    "duration": 6,
    "start_time": "2023-08-16T13:06:50.502Z"
   },
   {
    "duration": 139888,
    "start_time": "2023-08-16T13:06:50.510Z"
   },
   {
    "duration": 58,
    "start_time": "2023-08-16T13:09:10.401Z"
   },
   {
    "duration": 8144,
    "start_time": "2023-08-16T13:09:10.461Z"
   },
   {
    "duration": 96933,
    "start_time": "2023-08-16T13:09:18.607Z"
   },
   {
    "duration": 237,
    "start_time": "2023-08-16T13:10:55.542Z"
   },
   {
    "duration": 30729,
    "start_time": "2023-08-16T13:10:55.782Z"
   },
   {
    "duration": 146,
    "start_time": "2023-08-16T13:11:26.513Z"
   },
   {
    "duration": 1487,
    "start_time": "2023-08-16T13:11:26.661Z"
   },
   {
    "duration": 163,
    "start_time": "2023-08-16T13:11:28.149Z"
   },
   {
    "duration": 16207,
    "start_time": "2023-08-18T04:29:56.838Z"
   },
   {
    "duration": 2310,
    "start_time": "2023-08-18T04:30:13.048Z"
   },
   {
    "duration": 14,
    "start_time": "2023-08-18T04:30:15.359Z"
   },
   {
    "duration": 37,
    "start_time": "2023-08-18T04:30:15.376Z"
   },
   {
    "duration": 1342,
    "start_time": "2023-08-18T04:30:15.415Z"
   },
   {
    "duration": 7,
    "start_time": "2023-08-18T04:30:16.759Z"
   },
   {
    "duration": 128152,
    "start_time": "2023-08-18T04:30:16.768Z"
   },
   {
    "duration": 50,
    "start_time": "2023-08-18T04:32:24.922Z"
   },
   {
    "duration": 7157,
    "start_time": "2023-08-18T04:32:24.981Z"
   },
   {
    "duration": 91520,
    "start_time": "2023-08-18T04:32:32.141Z"
   },
   {
    "duration": 241,
    "start_time": "2023-08-18T04:34:03.663Z"
   },
   {
    "duration": 32023,
    "start_time": "2023-08-18T04:34:03.906Z"
   },
   {
    "duration": 353,
    "start_time": "2023-08-18T04:34:49.814Z"
   },
   {
    "duration": 0,
    "start_time": "2023-08-18T04:38:17.506Z"
   },
   {
    "duration": 22,
    "start_time": "2023-08-18T04:39:33.237Z"
   },
   {
    "duration": 24,
    "start_time": "2023-08-18T04:40:06.326Z"
   },
   {
    "duration": 52263,
    "start_time": "2023-08-18T04:40:33.543Z"
   },
   {
    "duration": 0,
    "start_time": "2023-08-18T04:49:23.529Z"
   },
   {
    "duration": 4405700,
    "start_time": "2023-08-18T04:50:31.981Z"
   },
   {
    "duration": 15,
    "start_time": "2023-08-18T18:05:10.788Z"
   }
  ],
  "kernelspec": {
   "display_name": "Python 3 (ipykernel)",
   "language": "python",
   "name": "python3"
  },
  "language_info": {
   "codemirror_mode": {
    "name": "ipython",
    "version": 3
   },
   "file_extension": ".py",
   "mimetype": "text/x-python",
   "name": "python",
   "nbconvert_exporter": "python",
   "pygments_lexer": "ipython3",
   "version": "3.9.13"
  },
  "toc": {
   "base_numbering": 1,
   "nav_menu": {},
   "number_sections": true,
   "sideBar": true,
   "skip_h1_title": true,
   "title_cell": "Содержание",
   "title_sidebar": "Contents",
   "toc_cell": true,
   "toc_position": {
    "height": "calc(100% - 180px)",
    "left": "10px",
    "top": "150px",
    "width": "302.391px"
   },
   "toc_section_display": true,
   "toc_window_display": false
  }
 },
 "nbformat": 4,
 "nbformat_minor": 4
}
